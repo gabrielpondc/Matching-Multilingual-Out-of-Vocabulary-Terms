{
 "cells": [
  {
   "cell_type": "code",
   "execution_count": 1,
   "metadata": {},
   "outputs": [],
   "source": [
    "\n",
    "import gensim\n",
    "import numpy as np\n",
    "from pathlib import Path\n",
    "import pickle\n",
    "from time import time\n",
    "from typing import List, Dict, Set, Tuple\n",
    "%matplotlib inline\n",
    "import pandas as pd\n",
    "import numpy as np\n",
    "import matplotlib.pyplot as plt\n",
    "import seaborn\n",
    "from sklearn.datasets import load_iris\n",
    "import numpy as np\n",
    "import gensim\n",
    "import networkx as nx\n",
    "from node2vec import Node2Vec\n",
    "from sklearn.decomposition import PCA\n",
    "\n",
    "from pandas_profiling import ProfileReport\n"
   ]
  },
  {
   "cell_type": "code",
   "execution_count": 20,
   "metadata": {},
   "outputs": [],
   "source": [
    "modelwo = gensim.models.KeyedVectors.load_word2vec_format(r'wiki_300_5_word2vec.bin',binary=True)\n"
   ]
  },
  {
   "cell_type": "code",
   "execution_count": 22,
   "metadata": {},
   "outputs": [
    {
     "data": {
      "text/html": [
       "<div>\n",
       "<style scoped>\n",
       "    .dataframe tbody tr th:only-of-type {\n",
       "        vertical-align: middle;\n",
       "    }\n",
       "\n",
       "    .dataframe tbody tr th {\n",
       "        vertical-align: top;\n",
       "    }\n",
       "\n",
       "    .dataframe thead th {\n",
       "        text-align: right;\n",
       "    }\n",
       "</style>\n",
       "<table border=\"1\" class=\"dataframe\">\n",
       "  <thead>\n",
       "    <tr style=\"text-align: right;\">\n",
       "      <th></th>\n",
       "      <th>K</th>\n",
       "      <th>word</th>\n",
       "      <th>S1</th>\n",
       "      <th>S2</th>\n",
       "      <th>S3</th>\n",
       "      <th>S4</th>\n",
       "      <th>S5</th>\n",
       "      <th>S6</th>\n",
       "    </tr>\n",
       "  </thead>\n",
       "  <tbody>\n",
       "    <tr>\n",
       "      <th>0</th>\n",
       "      <td>1</td>\n",
       "      <td>백신패스</td>\n",
       "      <td>vaccine</td>\n",
       "      <td>inoculation</td>\n",
       "      <td>admit</td>\n",
       "      <td>epidemic</td>\n",
       "      <td>force</td>\n",
       "      <td>certification</td>\n",
       "    </tr>\n",
       "    <tr>\n",
       "      <th>1</th>\n",
       "      <td>2</td>\n",
       "      <td>위드코로나</td>\n",
       "      <td>normalize</td>\n",
       "      <td>recuperation</td>\n",
       "      <td>coexistence</td>\n",
       "      <td>vaccine</td>\n",
       "      <td>inoculation</td>\n",
       "      <td>infection</td>\n",
       "    </tr>\n",
       "    <tr>\n",
       "      <th>2</th>\n",
       "      <td>3</td>\n",
       "      <td>접종완료자</td>\n",
       "      <td>vaccine</td>\n",
       "      <td>inoculation</td>\n",
       "      <td>completion</td>\n",
       "      <td>effect</td>\n",
       "      <td>entry</td>\n",
       "      <td>death</td>\n",
       "    </tr>\n",
       "    <tr>\n",
       "      <th>3</th>\n",
       "      <td>4</td>\n",
       "      <td>ウィズコロナ</td>\n",
       "      <td>recuperation</td>\n",
       "      <td>coexistence</td>\n",
       "      <td>vaccine</td>\n",
       "      <td>inoculation</td>\n",
       "      <td>Normalize</td>\n",
       "      <td>state</td>\n",
       "    </tr>\n",
       "    <tr>\n",
       "      <th>4</th>\n",
       "      <td>5</td>\n",
       "      <td>段階日常回復</td>\n",
       "      <td>stage</td>\n",
       "      <td>recuperation</td>\n",
       "      <td>daily</td>\n",
       "      <td>state</td>\n",
       "      <td>coexistence</td>\n",
       "      <td>virus</td>\n",
       "    </tr>\n",
       "    <tr>\n",
       "      <th>5</th>\n",
       "      <td>6</td>\n",
       "      <td>ワクチンパスポト</td>\n",
       "      <td>vaccine</td>\n",
       "      <td>inoculation</td>\n",
       "      <td>certification</td>\n",
       "      <td>inspection</td>\n",
       "      <td>obligation</td>\n",
       "      <td>passport</td>\n",
       "    </tr>\n",
       "    <tr>\n",
       "      <th>6</th>\n",
       "      <td>7</td>\n",
       "      <td>内卷</td>\n",
       "      <td>compete</td>\n",
       "      <td>excessive</td>\n",
       "      <td>excessive</td>\n",
       "      <td>effort</td>\n",
       "      <td>Useless</td>\n",
       "      <td>society</td>\n",
       "    </tr>\n",
       "    <tr>\n",
       "      <th>7</th>\n",
       "      <td>8</td>\n",
       "      <td>노오력</td>\n",
       "      <td>effort</td>\n",
       "      <td>compete</td>\n",
       "      <td>society</td>\n",
       "      <td>Useless</td>\n",
       "      <td>lack</td>\n",
       "      <td>more</td>\n",
       "    </tr>\n",
       "    <tr>\n",
       "      <th>8</th>\n",
       "      <td>9</td>\n",
       "      <td>道路族</td>\n",
       "      <td>noise</td>\n",
       "      <td>dislike</td>\n",
       "      <td>driver</td>\n",
       "      <td>road</td>\n",
       "      <td>child</td>\n",
       "      <td>damage</td>\n",
       "    </tr>\n",
       "    <tr>\n",
       "      <th>9</th>\n",
       "      <td>10</td>\n",
       "      <td>無策政府</td>\n",
       "      <td>measures</td>\n",
       "      <td>absent</td>\n",
       "      <td>impotent</td>\n",
       "      <td>prevention</td>\n",
       "      <td>government</td>\n",
       "      <td>strategy</td>\n",
       "    </tr>\n",
       "    <tr>\n",
       "      <th>10</th>\n",
       "      <td>11</td>\n",
       "      <td>가학방역</td>\n",
       "      <td>government</td>\n",
       "      <td>measures</td>\n",
       "      <td>scientific</td>\n",
       "      <td>absent</td>\n",
       "      <td>entity</td>\n",
       "      <td>prevention</td>\n",
       "    </tr>\n",
       "    <tr>\n",
       "      <th>11</th>\n",
       "      <td>12</td>\n",
       "      <td>原生家庭</td>\n",
       "      <td>trauma</td>\n",
       "      <td>parenting</td>\n",
       "      <td>security</td>\n",
       "      <td>family</td>\n",
       "      <td>responsibility</td>\n",
       "      <td>authority</td>\n",
       "    </tr>\n",
       "    <tr>\n",
       "      <th>12</th>\n",
       "      <td>13</td>\n",
       "      <td>親ガチャ</td>\n",
       "      <td>choice</td>\n",
       "      <td>parents</td>\n",
       "      <td>birth</td>\n",
       "      <td>family</td>\n",
       "      <td>responsibility</td>\n",
       "      <td>disappointment</td>\n",
       "    </tr>\n",
       "    <tr>\n",
       "      <th>13</th>\n",
       "      <td>14</td>\n",
       "      <td>자택치료</td>\n",
       "      <td>convalescing</td>\n",
       "      <td>treatment</td>\n",
       "      <td>home</td>\n",
       "      <td>isolation</td>\n",
       "      <td>self</td>\n",
       "      <td>healing</td>\n",
       "    </tr>\n",
       "    <tr>\n",
       "      <th>14</th>\n",
       "      <td>15</td>\n",
       "      <td>自宅療養</td>\n",
       "      <td>cure</td>\n",
       "      <td>home</td>\n",
       "      <td>hospital</td>\n",
       "      <td>treatment</td>\n",
       "      <td>self</td>\n",
       "      <td>convalescing</td>\n",
       "    </tr>\n",
       "    <tr>\n",
       "      <th>15</th>\n",
       "      <td>16</td>\n",
       "      <td>居家</td>\n",
       "      <td>isolation</td>\n",
       "      <td>healing</td>\n",
       "      <td>home</td>\n",
       "      <td>treatment</td>\n",
       "      <td>hospital</td>\n",
       "      <td>cure</td>\n",
       "    </tr>\n",
       "    <tr>\n",
       "      <th>16</th>\n",
       "      <td>17</td>\n",
       "      <td>健康码</td>\n",
       "      <td>epidemic</td>\n",
       "      <td>vaccine</td>\n",
       "      <td>inoculation</td>\n",
       "      <td>nucleic</td>\n",
       "      <td>acid</td>\n",
       "      <td>certification</td>\n",
       "    </tr>\n",
       "    <tr>\n",
       "      <th>17</th>\n",
       "      <td>18</td>\n",
       "      <td>数媒土著</td>\n",
       "      <td>internet</td>\n",
       "      <td>smartphone</td>\n",
       "      <td>social</td>\n",
       "      <td>grown</td>\n",
       "      <td>youth</td>\n",
       "      <td>digital</td>\n",
       "    </tr>\n",
       "    <tr>\n",
       "      <th>18</th>\n",
       "      <td>19</td>\n",
       "      <td>Z世代</td>\n",
       "      <td>digital</td>\n",
       "      <td>natives</td>\n",
       "      <td>generation</td>\n",
       "      <td>internet</td>\n",
       "      <td>youth</td>\n",
       "      <td>grown</td>\n",
       "    </tr>\n",
       "    <tr>\n",
       "      <th>19</th>\n",
       "      <td>20</td>\n",
       "      <td>Z세대</td>\n",
       "      <td>zoomers</td>\n",
       "      <td>digital</td>\n",
       "      <td>internet</td>\n",
       "      <td>social</td>\n",
       "      <td>grown</td>\n",
       "      <td>smartphone</td>\n",
       "    </tr>\n",
       "    <tr>\n",
       "      <th>20</th>\n",
       "      <td>21</td>\n",
       "      <td>조용히 그만두기</td>\n",
       "      <td>workplace</td>\n",
       "      <td>leaving</td>\n",
       "      <td>work</td>\n",
       "      <td>way</td>\n",
       "      <td>quiet</td>\n",
       "      <td>lazy</td>\n",
       "    </tr>\n",
       "    <tr>\n",
       "      <th>21</th>\n",
       "      <td>22</td>\n",
       "      <td>静かな退職</td>\n",
       "      <td>leaving</td>\n",
       "      <td>negative</td>\n",
       "      <td>work</td>\n",
       "      <td>lazy</td>\n",
       "      <td>method</td>\n",
       "      <td>quiet</td>\n",
       "    </tr>\n",
       "    <tr>\n",
       "      <th>22</th>\n",
       "      <td>23</td>\n",
       "      <td>躺平摆烂</td>\n",
       "      <td>work</td>\n",
       "      <td>negative</td>\n",
       "      <td>lazy</td>\n",
       "      <td>decadent</td>\n",
       "      <td>quiet</td>\n",
       "      <td>workday</td>\n",
       "    </tr>\n",
       "    <tr>\n",
       "      <th>23</th>\n",
       "      <td>24</td>\n",
       "      <td>完成接种人员</td>\n",
       "      <td>inoculation</td>\n",
       "      <td>completion</td>\n",
       "      <td>vaccine</td>\n",
       "      <td>anti</td>\n",
       "      <td>virus</td>\n",
       "      <td>effect</td>\n",
       "    </tr>\n",
       "    <tr>\n",
       "      <th>24</th>\n",
       "      <td>25</td>\n",
       "      <td>미접종자</td>\n",
       "      <td>did</td>\n",
       "      <td>not</td>\n",
       "      <td>successful</td>\n",
       "      <td>vaccination</td>\n",
       "      <td>personnel</td>\n",
       "      <td>incomplete</td>\n",
       "    </tr>\n",
       "    <tr>\n",
       "      <th>25</th>\n",
       "      <td>26</td>\n",
       "      <td>オミクロン</td>\n",
       "      <td>newly</td>\n",
       "      <td>covid</td>\n",
       "      <td>virus</td>\n",
       "      <td>strain</td>\n",
       "      <td>omicron</td>\n",
       "      <td>worldwide</td>\n",
       "    </tr>\n",
       "    <tr>\n",
       "      <th>26</th>\n",
       "      <td>27</td>\n",
       "      <td>奥密克戎毒株</td>\n",
       "      <td>covid</td>\n",
       "      <td>virus</td>\n",
       "      <td>strain</td>\n",
       "      <td>infection</td>\n",
       "      <td>death</td>\n",
       "      <td>new</td>\n",
       "    </tr>\n",
       "  </tbody>\n",
       "</table>\n",
       "</div>"
      ],
      "text/plain": [
       "     K      word            S1            S2             S3           S4  \\\n",
       "0    1      백신패스       vaccine   inoculation          admit     epidemic   \n",
       "1    2     위드코로나     normalize  recuperation    coexistence      vaccine   \n",
       "2    3     접종완료자       vaccine   inoculation     completion       effect   \n",
       "3    4    ウィズコロナ  recuperation   coexistence        vaccine  inoculation   \n",
       "4    5    段階日常回復         stage  recuperation          daily        state   \n",
       "5    6  ワクチンパスポト       vaccine   inoculation  certification   inspection   \n",
       "6    7        内卷       compete     excessive      excessive       effort   \n",
       "7    8       노오력        effort       compete        society      Useless   \n",
       "8    9       道路族         noise       dislike         driver         road   \n",
       "9   10      無策政府      measures        absent       impotent   prevention   \n",
       "10  11      가학방역    government      measures     scientific       absent   \n",
       "11  12      原生家庭        trauma     parenting       security       family   \n",
       "12  13      親ガチャ        choice       parents          birth       family   \n",
       "13  14      자택치료  convalescing     treatment           home    isolation   \n",
       "14  15      自宅療養          cure          home       hospital    treatment   \n",
       "15  16        居家     isolation       healing           home    treatment   \n",
       "16  17       健康码      epidemic       vaccine    inoculation      nucleic   \n",
       "17  18      数媒土著      internet    smartphone         social        grown   \n",
       "18  19       Z世代       digital       natives     generation     internet   \n",
       "19  20       Z세대       zoomers       digital       internet       social   \n",
       "20  21  조용히 그만두기     workplace       leaving           work          way   \n",
       "21  22     静かな退職       leaving      negative           work         lazy   \n",
       "22  23      躺平摆烂          work      negative           lazy     decadent   \n",
       "23  24    完成接种人员   inoculation    completion        vaccine         anti   \n",
       "24  25      미접종자           did           not     successful  vaccination   \n",
       "25  26     オミクロン         newly         covid          virus       strain   \n",
       "26  27    奥密克戎毒株         covid         virus         strain    infection   \n",
       "\n",
       "                S5              S6  \n",
       "0            force   certification  \n",
       "1      inoculation       infection  \n",
       "2            entry           death  \n",
       "3        Normalize           state  \n",
       "4      coexistence           virus  \n",
       "5       obligation        passport  \n",
       "6          Useless         society  \n",
       "7             lack            more  \n",
       "8            child          damage  \n",
       "9       government        strategy  \n",
       "10          entity      prevention  \n",
       "11  responsibility       authority  \n",
       "12  responsibility  disappointment  \n",
       "13            self         healing  \n",
       "14            self    convalescing  \n",
       "15        hospital            cure  \n",
       "16            acid   certification  \n",
       "17           youth         digital  \n",
       "18           youth           grown  \n",
       "19           grown      smartphone  \n",
       "20           quiet            lazy  \n",
       "21          method           quiet  \n",
       "22           quiet         workday  \n",
       "23           virus          effect  \n",
       "24       personnel      incomplete  \n",
       "25         omicron       worldwide  \n",
       "26           death             new  "
      ]
     },
     "execution_count": 22,
     "metadata": {},
     "output_type": "execute_result"
    }
   ],
   "source": [
    "attrition = 'test.csv'\n",
    "df_ac = pd.read_csv(attrition,encoding='utf-8')\n",
    "df_ac"
   ]
  },
  {
   "cell_type": "code",
   "execution_count": 302,
   "metadata": {},
   "outputs": [
    {
     "data": {
      "text/plain": [
       "22622"
      ]
     },
     "execution_count": 302,
     "metadata": {},
     "output_type": "execute_result"
    }
   ],
   "source": [
    "V=1\n",
    "df_pc=str(list(modelwo[df_ac.loc[df_ac['K']==V]['S1'].values[0]].ravel()))+'|'+str(list(modelwo[df_ac.loc[df_ac['K']==V]['S2'].values[0]].ravel()))+'|'+str(list(modelwo[df_ac.loc[df_ac['K']==V]['S3'].values[0]].ravel()))+'|'+str(list(modelwo[df_ac.loc[df_ac['K']==V]['S4'].values[0]].ravel()))+'|'+str(list(modelwo[df_ac.loc[df_ac['K']==V]['S5'].values[0]].ravel()))+'|'+str(list(modelwo[df_ac.loc[df_ac['K']==V]['S6'].values[0]].ravel()))\n",
    "f = open(\"model_Weight.txt\",'w') \n",
    "f.write(df_pc)\n"
   ]
  },
  {
   "cell_type": "code",
   "execution_count": 2,
   "metadata": {},
   "outputs": [],
   "source": [
    "from pathlib import Path\n",
    "import pickle\n",
    "from time import time\n",
    "from typing import List, Dict, Set, Tuple\n",
    "%matplotlib inline\n",
    "import pandas as pd\n",
    "import numpy as np\n",
    "import matplotlib.pyplot as plt\n",
    "import seaborn\n",
    "from sklearn.datasets import load_iris\n",
    "import numpy as np\n",
    "import gensim\n",
    "import networkx as nx\n",
    "from node2vec import Node2Vec\n",
    "from sklearn.decomposition import PCA\n",
    "\n",
    "from pandas_profiling import ProfileReport\n"
   ]
  },
  {
   "cell_type": "code",
   "execution_count": 3,
   "metadata": {},
   "outputs": [
    {
     "data": {
      "text/html": [
       "<div>\n",
       "<style scoped>\n",
       "    .dataframe tbody tr th:only-of-type {\n",
       "        vertical-align: middle;\n",
       "    }\n",
       "\n",
       "    .dataframe tbody tr th {\n",
       "        vertical-align: top;\n",
       "    }\n",
       "\n",
       "    .dataframe thead th {\n",
       "        text-align: right;\n",
       "    }\n",
       "</style>\n",
       "<table border=\"1\" class=\"dataframe\">\n",
       "  <thead>\n",
       "    <tr style=\"text-align: right;\">\n",
       "      <th></th>\n",
       "      <th>K</th>\n",
       "      <th>S1</th>\n",
       "      <th>S2</th>\n",
       "      <th>S3</th>\n",
       "      <th>S4</th>\n",
       "      <th>S5</th>\n",
       "      <th>S6</th>\n",
       "    </tr>\n",
       "  </thead>\n",
       "  <tbody>\n",
       "    <tr>\n",
       "      <th>0</th>\n",
       "      <td>1</td>\n",
       "      <td>0.188477</td>\n",
       "      <td>-0.259770</td>\n",
       "      <td>0.198242</td>\n",
       "      <td>-0.09180</td>\n",
       "      <td>-0.037840</td>\n",
       "      <td>0.04210</td>\n",
       "    </tr>\n",
       "    <tr>\n",
       "      <th>1</th>\n",
       "      <td>2</td>\n",
       "      <td>0.038086</td>\n",
       "      <td>-0.226560</td>\n",
       "      <td>0.339844</td>\n",
       "      <td>-0.02637</td>\n",
       "      <td>-0.077150</td>\n",
       "      <td>-0.03420</td>\n",
       "    </tr>\n",
       "    <tr>\n",
       "      <th>2</th>\n",
       "      <td>3</td>\n",
       "      <td>-0.261720</td>\n",
       "      <td>-0.060790</td>\n",
       "      <td>-0.341800</td>\n",
       "      <td>-0.25977</td>\n",
       "      <td>0.188477</td>\n",
       "      <td>0.02188</td>\n",
       "    </tr>\n",
       "    <tr>\n",
       "      <th>3</th>\n",
       "      <td>4</td>\n",
       "      <td>0.020752</td>\n",
       "      <td>0.188477</td>\n",
       "      <td>-0.013550</td>\n",
       "      <td>-0.05518</td>\n",
       "      <td>0.312500</td>\n",
       "      <td>0.51420</td>\n",
       "    </tr>\n",
       "  </tbody>\n",
       "</table>\n",
       "</div>"
      ],
      "text/plain": [
       "   K        S1        S2        S3       S4        S5       S6\n",
       "0  1  0.188477 -0.259770  0.198242 -0.09180 -0.037840  0.04210\n",
       "1  2  0.038086 -0.226560  0.339844 -0.02637 -0.077150 -0.03420\n",
       "2  3 -0.261720 -0.060790 -0.341800 -0.25977  0.188477  0.02188\n",
       "3  4  0.020752  0.188477 -0.013550 -0.05518  0.312500  0.51420"
      ]
     },
     "execution_count": 3,
     "metadata": {},
     "output_type": "execute_result"
    }
   ],
   "source": [
    "attrition_data = 'example.csv'\n",
    "df_attrition = pd.read_csv(attrition_data)\n",
    "target_column = 'word'\n",
    "selected_columns = ['K', 'S1', 'S2', 'S3', \\\n",
    "                    'S4', 'S5','S6']\n",
    "\n",
    "df_attrition = df_attrition.loc[:, selected_columns]\n",
    "df_attrition"
   ]
  },
  {
   "cell_type": "code",
   "execution_count": 48,
   "metadata": {},
   "outputs": [],
   "source": [
    "class GraphLoader:\n",
    "    def __init__(self):\n",
    "        self.graph = None\n",
    "        self.title = None\n",
    "        \n",
    "    def build_graph(self, \n",
    "                    dataframe: pd.DataFrame, \n",
    "                    columns: List, \n",
    "                    edge_list: List,\n",
    "                    verbose: bool = True,\n",
    "                    ):\n",
    "        t0 = time()\n",
    "        self.graph = nx.Graph(name = self.title)\n",
    "\n",
    "        # Add Nodes to the graph.\n",
    "        for column in columns:\n",
    "            self.graph.add_nodes_from(dataframe[column].values, label=column)\n",
    "\n",
    "        # Add remaining columns as Node attributes. Optional\n",
    "        remaining = dataframe.columns.difference(columns)\n",
    "        for node, data in self.graph.nodes(data=True):\n",
    "            if data[\"label\"] == \"K\":\n",
    "                self.graph.nodes[node][\"K\"] = dataframe.loc[dataframe[\"K\"] == int(node), remaining].squeeze().to_dict()\n",
    "\n",
    "        # Add Edges.\n",
    "        for _, row in dataframe.loc[:, columns].iterrows():\n",
    "            for edge in edge_list:\n",
    "                self.graph.add_edge(row[edge[0]], row[edge[1]])\n",
    "        \n",
    "        if verbose:\n",
    "            print(f\"FINISHED in {np.round(time() - t0, 3)} seconds.\")\n",
    "            print(nx.info(self.graph))\n",
    "        \n",
    "        return self.graph\n",
    "\n",
    "    def draw_graph(self, graph: nx.Graph, node_colors: dict, node: str = None, radius: int = 1) -> None:\n",
    "        def assign_colors(graph: nx.Graph) -> List:\n",
    "            # Assign Colors to nodes\n",
    "            colors = []\n",
    "            for n, data in graph.nodes(data=True):\n",
    "                node = data[\"label\"]\n",
    "                colors.append(node_colors.get(node, \"white\"))\n",
    "            return colors\n",
    "\n",
    "        f = plt.figure(figsize = (20,12), facecolor=\"none\")\n",
    "        ax = f.add_subplot()\n",
    "\n",
    "        if not node:    \n",
    "            plt\n",
    "        else:\n",
    "            graph = nx.ego_graph(graph, node, radius = radius)\n",
    "        \n",
    "        colors = assign_colors(graph)\n",
    "        nx.draw_networkx(graph, node_size = 1500, node_color = colors, with_labels = True)\n",
    "        # Add an empty plot to set custom legends\n",
    "        from matplotlib.lines import Line2D\n",
    "        ax.scatter([],[])\n",
    "        legend_elements = [\n",
    "            Line2D([0], [0], marker='o', color='w', label='K', markerfacecolor = node_colors['K'], markersize=20),\n",
    "            Line2D([0], [0], marker='o', color='w', label='S1', markerfacecolor = node_colors['S1'], markersize=10),\n",
    "            Line2D([0], [0], marker='o', color='w', label='S2', markerfacecolor = node_colors['S2'], markersize=10),\n",
    "            Line2D([0], [0], marker='o', color='w', label='S3', markerfacecolor = node_colors['S3'], markersize=10),\n",
    "            Line2D([0], [0], marker='o', color='w', label='S4', markerfacecolor = node_colors['S4'], markersize=10),\n",
    "            Line2D([0], [0], marker='o', color='w', label='S5', markerfacecolor = node_colors['S5'], markersize=10),\n",
    "            Line2D([0], [0], marker='o', color='w', label='S6', markerfacecolor = node_colors['S6'], markersize=10),\n",
    "\n",
    "        ]\n",
    "        ax.legend(handles=legend_elements, loc='best')\n",
    "        plt.savefig(\"a.svg\", format='svg', bbox_inches='tight', transparent=True,dpi=3600)\n",
    "        plt.show()\n",
    "        "
   ]
  },
  {
   "cell_type": "code",
   "execution_count": 52,
   "metadata": {},
   "outputs": [],
   "source": [
    "nodes = selected_columns[:] # Do not select Attrition as a feature node\n",
    "edges = [(\"K\",\"S1\"),\n",
    "         (\"K\",\"S2\"),\n",
    "         (\"K\",\"S3\"),\n",
    "         (\"K\",\"S4\"),\n",
    "         (\"K\",\"S5\"),\n",
    "         (\"K\",\"S6\")]\n",
    "\n",
    "node_colors = { # freestyle, update any color.\n",
    "    \"K\": \"dodgerblue\", \n",
    "    \"S1\":\"#A8D8B9\", \n",
    "    \"S2\":\"#81C7D4\", \n",
    "    \"S3\":\"#FEDFE1\",\n",
    "    \"S4\":\"#D7C4BB\",\n",
    "    \"S5\":\"#FFBA84\",\n",
    "    \"S6\":\"#A5DEE4\"\n",
    "}"
   ]
  },
  {
   "cell_type": "code",
   "execution_count": 59,
   "metadata": {},
   "outputs": [
    {
     "name": "stdout",
     "output_type": "stream",
     "text": [
      "FINISHED in 0.003 seconds.\n",
      "Graph with 25 nodes and 24 edges\n"
     ]
    },
    {
     "name": "stderr",
     "output_type": "stream",
     "text": [
      "/var/folders/80/6dk4c4dj5x9b1326hfcdyqc40000gn/T/ipykernel_15280/3874173170.py:32: DeprecationWarning: info is deprecated and will be removed in version 3.0.\n",
      "\n",
      "  print(nx.info(self.graph))\n"
     ]
    },
    {
     "data": {
      "image/png": "[encoded data removed]",
      "text/plain": [
       "<Figure size 1440x864 with 1 Axes>"
      ]
     },
     "metadata": {},
     "output_type": "display_data"
    }
   ],
   "source": [
    "graph_loader = GraphLoader()\n",
    "demo_graph = graph_loader.build_graph(\n",
    "            dataframe = df_attrition.loc[:, selected_columns[:]],\n",
    "            columns = nodes, \n",
    "            edge_list = edges,\n",
    "            verbose = True,\n",
    "        )\n",
    "# graph_loader.draw_graph(demo_graph, node_colors, node = 5, radius = 2) # show only the nodes that are at a distance of 2 edges from the employee 5.\n",
    "graph_loader.draw_graph(demo_graph, node_colors) # Show the whole graph"
   ]
  },
  {
   "cell_type": "code",
   "execution_count": 29,
   "metadata": {},
   "outputs": [
    {
     "data": {
      "text/plain": [
       "EdgeView([(1, 0.188477), (1, -0.25977), (1, 0.198242), (1, -0.0918), (1, -0.03784), (1, 0.0421), (2, 0.038086), (2, -0.22656), (2, 0.339844), (2, -0.02637), (2, -0.07715), (2, -0.0342), (3, -0.26172), (3, -0.06079), (3, -0.3418), (3, -0.25977), (3, 0.188477), (3, 0.02188), (4, 0.020752), (4, 0.188477), (4, -0.01355), (4, -0.05518), (4, 0.3125), (4, 0.5142)])"
      ]
     },
     "execution_count": 29,
     "metadata": {},
     "output_type": "execute_result"
    }
   ],
   "source": [
    "demo_graph.edges"
   ]
  },
  {
   "cell_type": "code",
   "execution_count": null,
   "metadata": {},
   "outputs": [],
   "source": []
  },
  {
   "cell_type": "code",
   "execution_count": 17,
   "metadata": {},
   "outputs": [],
   "source": [
    "CWD = Path().cwd()\n",
    "EMBEDDINGS_DIR = CWD / 'embeddings'\n",
    "EMBEDDINGS_DIR.mkdir(parents=True, exist_ok=True)\n",
    "SEED = 12\n",
    "\n",
    "class VectorizerConfig:\n",
    "    dimensions = 128\n",
    "    walk_length = 30\n",
    "    num_walks = 50\n",
    "    window = 10\n",
    "    min_count = 1\n",
    "    batch_words = 100\n",
    "\n",
    "class NodeEmbedding:\n",
    "\n",
    "    def __init__(self) -> None:\n",
    "        self.vectorizer = None\n",
    "        self.model = None\n",
    "        \n",
    "    def generate_random_walks(self, graph: nx.Graph, **params) -> None:\n",
    "        self.vectorizer = Node2Vec(graph, **params)\n",
    "        # return self.vectorizer\n",
    "\n",
    "    def fit(self, **params) -> gensim.models.Word2Vec:\n",
    "        if self.vectorizer is None:\n",
    "            raise Exception(\"No random walks. Generate Random walks by calling generate_random_walks() method first.\")\n",
    "        self.model = self.vectorizer.fit(**params)\n",
    "        \n",
    "        return self.model\n",
    "    def save_model(self, model: gensim.models.Word2Vec, save_to: Path = EMBEDDINGS_DIR, prefix: str = None) -> None:\n",
    "        d = VectorizerConfig.dimensions\n",
    "        w = VectorizerConfig.walk_length\n",
    "        n = VectorizerConfig.num_walks\n",
    "        embeddings_filename = f\"{prefix}_embeddings_{d}_{w}_{n}.txt\"\n",
    "        model_filename = f\"{prefix}_model_{d}_{w}_{n}.pkl\"\n",
    "        # Save only the embeddings in a txt file.\n",
    "        self.model.wv.save_word2vec_format(str(EMBEDDINGS_DIR/embeddings_filename))\n",
    "        # Save the entire model.\n",
    "        self.model.save(str(EMBEDDINGS_DIR/model_filename))\n",
    "        print(f\"Model and embeddings saved to: {str(EMBEDDINGS_DIR/model_filename)}\")\n",
    "    def load_model(self, model_filename: str = None, load_from: Path = EMBEDDINGS_DIR) -> gensim.models.Word2Vec:\n",
    "        if Path(EMBEDDINGS_DIR / model_filename).exists():\n",
    "            print(\"Loaded Model: \", model_filename)\n",
    "            with Path(EMBEDDINGS_DIR / model_filename).open(mode=\"r+b\") as file:\n",
    "                self.model = pickle.load(file)\n",
    "        else:\n",
    "            raise FileNotFoundError(f\"NOT found: {EMBEDDINGS_DIR / model_filename}\")\n",
    "        \n",
    "        return self.model\n"
   ]
  },
  {
   "cell_type": "code",
   "execution_count": 18,
   "metadata": {},
   "outputs": [],
   "source": [
    "import multiprocessing\n",
    "\n",
    "embedder = NodeEmbedding()"
   ]
  },
  {
   "cell_type": "code",
   "execution_count": 19,
   "metadata": {},
   "outputs": [
    {
     "name": "stderr",
     "output_type": "stream",
     "text": [
      "Computing transition probabilities: 100%|██████████| 120/120 [00:00<00:00, 11996.29it/s]\n"
     ]
    }
   ],
   "source": [
    "embedder.generate_random_walks(\n",
    "    demo_graph,\n",
    "    dimensions = VectorizerConfig.dimensions,\n",
    "    walk_length = VectorizerConfig.walk_length,\n",
    "    num_walks = VectorizerConfig.num_walks,\n",
    "    workers = multiprocessing.cpu_count()\n",
    ")"
   ]
  },
  {
   "cell_type": "code",
   "execution_count": 20,
   "metadata": {},
   "outputs": [
    {
     "name": "stdout",
     "output_type": "stream",
     "text": [
      "Wall time: 1.98 s\n"
     ]
    }
   ],
   "source": [
    "%%time\n",
    "model = embedder.fit(\n",
    "    window = VectorizerConfig.window,\n",
    "    min_count = VectorizerConfig.min_count,\n",
    "    batch_words = VectorizerConfig.batch_words\n",
    ")"
   ]
  },
  {
   "cell_type": "code",
   "execution_count": 21,
   "metadata": {},
   "outputs": [
    {
     "name": "stdout",
     "output_type": "stream",
     "text": [
      "Model and embeddings saved to: c:\\Users\\Administrator\\Dropbox\\毕业论文\\实验\\embeddings\\K_model_128_30_50.pkl\n"
     ]
    }
   ],
   "source": [
    "\n",
    "embedder.save_model(model, save_to = EMBEDDINGS_DIR, prefix = \"K\")"
   ]
  },
  {
   "cell_type": "code",
   "execution_count": 154,
   "metadata": {},
   "outputs": [
    {
     "name": "stdout",
     "output_type": "stream",
     "text": [
      "Loaded Model:  K_model_128_30_50.pkl\n"
     ]
    }
   ],
   "source": [
    "import multiprocessing\n",
    "from pathlib import Path\n",
    "import pickle\n",
    "from time import time\n",
    "from typing import List, Dict, Set, Tuple\n",
    "%matplotlib inline\n",
    "import pandas as pd\n",
    "import numpy as np\n",
    "import matplotlib.pyplot as plt\n",
    "import seaborn\n",
    "from sklearn.datasets import load_iris\n",
    "import numpy as np\n",
    "import gensim\n",
    "import networkx as nx\n",
    "from node2vec import Node2Vec\n",
    "from sklearn.decomposition import PCA\n",
    "from pandas_profiling import ProfileReport\n",
    "attrition = 'test.csv'\n",
    "df_ac = pd.read_csv(attrition,encoding='utf-8')\n",
    "embedder = NodeEmbedding()\n",
    "model2 = embedder.load_model(r\"K_model_128_30_50.pkl\", load_from = EMBEDDINGS_DIR)"
   ]
  },
  {
   "cell_type": "code",
   "execution_count": 155,
   "metadata": {},
   "outputs": [],
   "source": [
    "with open(r'embeddings/K_embeddings_128_30_50.txt', 'r',encoding='UTF-8') as embeddings_file:\n",
    "    embeddings = embeddings_file.readlines()"
   ]
  },
  {
   "cell_type": "code",
   "execution_count": 156,
   "metadata": {},
   "outputs": [
    {
     "data": {
      "text/plain": [
       "['120 128\\n']"
      ]
     },
     "execution_count": 156,
     "metadata": {},
     "output_type": "execute_result"
    }
   ],
   "source": [
    "embeddings[:1]"
   ]
  },
  {
   "cell_type": "code",
   "execution_count": 157,
   "metadata": {},
   "outputs": [],
   "source": [
    "# This function is requred since embeddings are out of order with the target. They were not matched correctly.\n",
    "def align_features_and_target(df: pd.DataFrame, embeddings_file: str = None):\n",
    "    vectors = []\n",
    "    with Path(EMBEDDINGS_DIR / embeddings_file).open(mode=\"r\",encoding='UTF-8') as file:\n",
    "        results = file.readlines()\n",
    "        for person in df[\"K\"].values:\n",
    "            for line in results[1:]:\n",
    "                if line.split()[0] == str(person):\n",
    "                    vectors.append(line.split()[1:])\n",
    "    \n",
    "    return np.array(vectors).astype(np.float64)"
   ]
  },
  {
   "cell_type": "code",
   "execution_count": 158,
   "metadata": {},
   "outputs": [
    {
     "name": "stdout",
     "output_type": "stream",
     "text": [
      "CPU times: user 70.4 ms, sys: 590 µs, total: 71 ms\n",
      "Wall time: 69.6 ms\n"
     ]
    }
   ],
   "source": [
    "%%time\n",
    "target_column = 'word'\n",
    "selected_columns = ['K', 'S1', 'S2', 'S3', \\\n",
    "                    'S4', 'S5','S6']\n",
    "attrition_data = 'cbd.csv'\n",
    "df_attrition = pd.read_csv(attrition_data)\n",
    "df_attrition = df_attrition.loc[:, selected_columns]\n",
    "embeddings_filename = r\"K_embeddings_128_30_50.txt\"\n",
    "feature_vectors = align_features_and_target(df_attrition, embeddings_file = embeddings_filename)\n",
    "attrition_data = 'cbd.csv'\n",
    "df_attrition = pd.read_csv(attrition_data)\n"
   ]
  },
  {
   "cell_type": "code",
   "execution_count": 163,
   "metadata": {},
   "outputs": [
    {
     "name": "stdout",
     "output_type": "stream",
     "text": [
      "0    백신패스\n",
      "Name: word, dtype: object\n",
      "16    健康码\n",
      "Name: word, dtype: object Similarity:0.867392361164093\n",
      "5    ワクチンパスポト\n",
      "Name: word, dtype: object Similarity:0.8083609342575073\n"
     ]
    }
   ],
   "source": [
    "s=1\n",
    "a=model2.wv.similar_by_word(str(s))\n",
    "b=[]\n",
    "for i in range(len(a)):\n",
    "    try:\n",
    "        b.append([int(a[i][0]),a[i][1]])\n",
    "    except ValueError:\n",
    "        p=1\n",
    "print(df_ac.loc[df_ac['K']==s]['word'])\n",
    "for d in range(len(b)):\n",
    "    print(str(df_ac.loc[df_ac['K']==b[d][0]]['word'])+' Similarity:'+str(b[d][1]))"
   ]
  },
  {
   "cell_type": "code",
   "execution_count": 164,
   "metadata": {},
   "outputs": [
    {
     "data": {
      "text/plain": [
       "(1, 2, 4, 7, 11)"
      ]
     },
     "execution_count": 164,
     "metadata": {},
     "output_type": "execute_result"
    }
   ],
   "source": [
    "1,2,4,7,11"
   ]
  },
  {
   "cell_type": "code",
   "execution_count": 321,
   "metadata": {},
   "outputs": [
    {
     "data": {
      "text/plain": [
       "0.7082757353782654"
      ]
     },
     "execution_count": 321,
     "metadata": {},
     "output_type": "execute_result"
    }
   ],
   "source": [
    "model2.wv.distance('1','11')"
   ]
  },
  {
   "cell_type": "code",
   "execution_count": null,
   "metadata": {},
   "outputs": [],
   "source": [
    "for i in "
   ]
  }
 ],
 "metadata": {
  "kernelspec": {
   "display_name": "Python 3.8.8 64-bit",
   "language": "python",
   "name": "python3"
  },
  "language_info": {
   "codemirror_mode": {
    "name": "ipython",
    "version": 3
   },
   "file_extension": ".py",
   "mimetype": "text/x-python",
   "name": "python",
   "nbconvert_exporter": "python",
   "pygments_lexer": "ipython3",
   "version": "3.8.8"
  },
  "nbTranslate": {
   "displayLangs": [
    "cn",
    "en"
   ],
   "hotkey": "alt-t",
   "langInMainMenu": true,
   "sourceLang": "en",
   "targetLang": "cn",
   "useGoogleTranslate": true
  },
  "vscode": {
   "interpreter": {
    "hash": "e0144baad0ecee903f108a3e46e51ceadd7da3fc904cfa79747d813b61464b4e"
   }
  }
 },
 "nbformat": 4,
 "nbformat_minor": 2
}
